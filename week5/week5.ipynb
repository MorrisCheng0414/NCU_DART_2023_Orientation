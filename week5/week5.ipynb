{
  "nbformat": 4,
  "nbformat_minor": 0,
  "metadata": {
    "colab": {
      "provenance": []
    },
    "kernelspec": {
      "name": "python3",
      "display_name": "Python 3"
    },
    "language_info": {
      "name": "python"
    }
  },
  "cells": [
    {
      "cell_type": "code",
      "source": [
        "import torch"
      ],
      "metadata": {
        "id": "C6dMRRwhRYBL"
      },
      "execution_count": 3,
      "outputs": []
    },
    {
      "cell_type": "code",
      "source": [
        "# homework 1\n",
        "x = torch.tensor(1.0)\n",
        "x.requires_grad_(True)\n",
        "\n",
        "y = 3*x**2 + 2*x + 1\n",
        "print('y = ', y)\n",
        "y.backward()\n",
        "print('dy/dx = ', x.grad)\n"
      ],
      "metadata": {
        "colab": {
          "base_uri": "https://localhost:8080/"
        },
        "id": "BZ5m2CPZTLpg",
        "outputId": "522f6ced-e634-4057-9c10-69d7d425b053"
      },
      "execution_count": 124,
      "outputs": [
        {
          "output_type": "stream",
          "name": "stdout",
          "text": [
            "y =  tensor(6., grad_fn=<AddBackward0>)\n",
            "dy/dx =  tensor(8.)\n"
          ]
        }
      ]
    },
    {
      "cell_type": "code",
      "source": [
        "# homework 2\n",
        "import matplotlib.pyplot as plt\n",
        "import numpy as np\n",
        "\n",
        "data_x = torch.rand((100, 1))\n",
        "data_y = torch.rand((100, 1))\n",
        "\n",
        "data_x = torch.sort(data_x, dim = 0)\n",
        "data_y = torch.sort(data_y, dim = 0)\n",
        "\n",
        "data_x = torch.tensor(data_x.values)\n",
        "data_y = torch.tensor(data_y.values)\n"
      ],
      "metadata": {
        "colab": {
          "base_uri": "https://localhost:8080/"
        },
        "id": "hB57aVWLUyux",
        "outputId": "946f4718-f87f-4891-f09a-4b5ed9b7d47d"
      },
      "execution_count": 125,
      "outputs": [
        {
          "output_type": "stream",
          "name": "stderr",
          "text": [
            "<ipython-input-125-d2bfd23acd76>:11: UserWarning: To copy construct from a tensor, it is recommended to use sourceTensor.clone().detach() or sourceTensor.clone().detach().requires_grad_(True), rather than torch.tensor(sourceTensor).\n",
            "  data_x = torch.tensor(data_x.values)\n",
            "<ipython-input-125-d2bfd23acd76>:12: UserWarning: To copy construct from a tensor, it is recommended to use sourceTensor.clone().detach() or sourceTensor.clone().detach().requires_grad_(True), rather than torch.tensor(sourceTensor).\n",
            "  data_y = torch.tensor(data_y.values)\n"
          ]
        }
      ]
    },
    {
      "cell_type": "code",
      "source": [
        "noise = torch.randn(data_y.size()) / 10\n",
        "data_y = data_y + noise\n",
        "\n",
        "plt.scatter(data_x, data_y, c = 'blue')\n",
        "plt.show()"
      ],
      "metadata": {
        "colab": {
          "base_uri": "https://localhost:8080/",
          "height": 430
        },
        "id": "oGIf8gted7Hk",
        "outputId": "b9c82e60-8149-4444-d365-0d9fdb466386"
      },
      "execution_count": 126,
      "outputs": [
        {
          "output_type": "display_data",
          "data": {
            "text/plain": [
              "<Figure size 640x480 with 1 Axes>"
            ],
            "image/png": "[encoded data removed]"
          },
          "metadata": {}
        }
      ]
    },
    {
      "cell_type": "code",
      "source": [
        "class LinearRegression(torch.nn.Module):\n",
        "  def __init__(self):\n",
        "    super(LinearRegression, self).__init__()\n",
        "    self.linear = torch.nn.Linear(1, 1)\n",
        "\n",
        "  def forward(self, x):\n",
        "    predict_y = self.linear(x)\n",
        "    return predict_y"
      ],
      "metadata": {
        "id": "0aSDpuMMXvIy"
      },
      "execution_count": 127,
      "outputs": []
    },
    {
      "cell_type": "code",
      "source": [
        "linear_model = LinearRegression()\n",
        "criterion = torch.nn.MSELoss(size_average = False)\n",
        "optimizer = torch.optim.SGD(linear_model.parameters(), lr = 0.007)"
      ],
      "metadata": {
        "colab": {
          "base_uri": "https://localhost:8080/"
        },
        "id": "XKdIUUyYYtYY",
        "outputId": "e965b96a-7924-4db4-d4d8-483e04a331fc"
      },
      "execution_count": 128,
      "outputs": [
        {
          "output_type": "stream",
          "name": "stderr",
          "text": [
            "/usr/local/lib/python3.10/dist-packages/torch/nn/_reduction.py:42: UserWarning: size_average and reduce args will be deprecated, please use reduction='sum' instead.\n",
            "  warnings.warn(warning.format(ret))\n"
          ]
        }
      ]
    },
    {
      "cell_type": "code",
      "source": [
        "for epoch in range(101):\n",
        "  predict_y = linear_model(data_x)\n",
        "  loss = criterion(predict_y, data_y)\n",
        "  optimizer.zero_grad()\n",
        "  loss.backward()\n",
        "  optimizer.step()\n",
        "  if (epoch % 5 == 0):\n",
        "    print('epoch: {}, loss: {}'.format(epoch, loss.item()))"
      ],
      "metadata": {
        "colab": {
          "base_uri": "https://localhost:8080/"
        },
        "id": "jHT-lNMpZCQi",
        "outputId": "b6d0747f-ab75-4643-aac4-419cb162248c"
      },
      "execution_count": 129,
      "outputs": [
        {
          "output_type": "stream",
          "name": "stdout",
          "text": [
            "epoch: 0, loss: 18.601184844970703\n",
            "epoch: 5, loss: 6.07393741607666\n",
            "epoch: 10, loss: 3.0241005420684814\n",
            "epoch: 15, loss: 2.0656981468200684\n",
            "epoch: 20, loss: 1.712401270866394\n",
            "epoch: 25, loss: 1.5724165439605713\n",
            "epoch: 30, loss: 1.5153969526290894\n",
            "epoch: 35, loss: 1.491940975189209\n",
            "epoch: 40, loss: 1.4822583198547363\n",
            "epoch: 45, loss: 1.4782568216323853\n",
            "epoch: 50, loss: 1.47660231590271\n",
            "epoch: 55, loss: 1.4759182929992676\n",
            "epoch: 60, loss: 1.4756354093551636\n",
            "epoch: 65, loss: 1.4755184650421143\n",
            "epoch: 70, loss: 1.4754698276519775\n",
            "epoch: 75, loss: 1.475450038909912\n",
            "epoch: 80, loss: 1.4754416942596436\n",
            "epoch: 85, loss: 1.4754382371902466\n",
            "epoch: 90, loss: 1.475436806678772\n",
            "epoch: 95, loss: 1.4754363298416138\n",
            "epoch: 100, loss: 1.4754360914230347\n"
          ]
        }
      ]
    },
    {
      "cell_type": "code",
      "source": [
        "test_input = torch.rand((1, 1))\n",
        "test_input"
      ],
      "metadata": {
        "colab": {
          "base_uri": "https://localhost:8080/"
        },
        "id": "X587Vt5kZ3zr",
        "outputId": "a5a870ca-7cb1-46c0-cbba-4db345b209f8"
      },
      "execution_count": 130,
      "outputs": [
        {
          "output_type": "execute_result",
          "data": {
            "text/plain": [
              "tensor([[0.5068]])"
            ]
          },
          "metadata": {},
          "execution_count": 130
        }
      ]
    },
    {
      "cell_type": "code",
      "source": [
        "predict_output = linear_model(test_input)\n",
        "print('Predict output: ', predict_output.item())"
      ],
      "metadata": {
        "colab": {
          "base_uri": "https://localhost:8080/"
        },
        "id": "l5Yx0W1OgRhC",
        "outputId": "868e5d14-650a-4698-f9ac-c960e0d982a9"
      },
      "execution_count": 131,
      "outputs": [
        {
          "output_type": "stream",
          "name": "stdout",
          "text": [
            "Predict output:  0.4652361571788788\n"
          ]
        }
      ]
    },
    {
      "cell_type": "code",
      "source": [
        "plt.scatter(data_x, data_y, c = 'blue')\n",
        "plt.scatter(test_input.item(), predict_output.item(), c = 'red')\n",
        "plt.show()"
      ],
      "metadata": {
        "colab": {
          "base_uri": "https://localhost:8080/",
          "height": 430
        },
        "id": "UbC6V96ngfsm",
        "outputId": "21783bd6-caeb-46ed-e75c-fe97bf4becc2"
      },
      "execution_count": 132,
      "outputs": [
        {
          "output_type": "display_data",
          "data": {
            "text/plain": [
              "<Figure size 640x480 with 1 Axes>"
            ],
            "image/png": "[encoded data removed]"
          },
          "metadata": {}
        }
      ]
    },
    {
      "cell_type": "code",
      "source": [
        "# homework 3\n",
        "from torch.utils.data import Dataset\n",
        "\n",
        "class TestDataset(Dataset):\n",
        "  def __init__(self, size:int):\n",
        "    self.x = torch.rand(size)\n",
        "    self.y = 2 * self.x\n",
        "\n",
        "  def __len__(self):\n",
        "    return len(self.x)\n",
        "\n",
        "  def __getitem__(self, index):\n",
        "    return self.x[index], self.y[index]"
      ],
      "metadata": {
        "id": "n75XSPQohJc-"
      },
      "execution_count": 138,
      "outputs": []
    },
    {
      "cell_type": "code",
      "source": [
        "from torch.utils.data import DataLoader\n",
        "\n",
        "def collate_fn(batch):\n",
        "  x_list = []\n",
        "  y_list = []\n",
        "\n",
        "  for x, y in batch:\n",
        "    x_list.append([x])\n",
        "    y_list.append([y])\n",
        "\n",
        "  return [torch.tensor(x_list), torch.tensor(y_list)]"
      ],
      "metadata": {
        "id": "imumYguOio_A"
      },
      "execution_count": 139,
      "outputs": []
    },
    {
      "cell_type": "code",
      "source": [
        "test_dataset = TestDataset(10)\n",
        "print(len(test_dataset))\n",
        "print(test_dataset[0])"
      ],
      "metadata": {
        "colab": {
          "base_uri": "https://localhost:8080/"
        },
        "id": "0_o0HS7hid_n",
        "outputId": "4d702396-c188-4ab5-cfb7-fb154feb679c"
      },
      "execution_count": 140,
      "outputs": [
        {
          "output_type": "stream",
          "name": "stdout",
          "text": [
            "10\n",
            "(tensor(0.4206), tensor(0.8411))\n"
          ]
        }
      ]
    },
    {
      "cell_type": "code",
      "source": [
        "batch_size = 2\n",
        "\n",
        "test_dataloader = DataLoader(\n",
        "    test_dataset,\n",
        "    batch_size = batch_size,\n",
        "    shuffle = True,\n",
        "    collate_fn = collate_fn\n",
        ")"
      ],
      "metadata": {
        "id": "NvSWplpfjn2t"
      },
      "execution_count": 141,
      "outputs": []
    },
    {
      "cell_type": "code",
      "source": [
        "index = 0\n",
        "for x, y in test_dataloader:\n",
        "  print('Mini batch {}:'.format(index))\n",
        "  stack = torch.stack((x, y), dim = 1).reshape((-1, 2))\n",
        "\n",
        "  for i in range(len(stack)):\n",
        "    print('Data {}\\nx = {}\\ny = {}'.format(i, stack[i][0], stack[i][1]))\n",
        "\n",
        "  index = index + 1\n",
        "  print()\n",
        ""
      ],
      "metadata": {
        "colab": {
          "base_uri": "https://localhost:8080/"
        },
        "id": "NwCuiN-GkCax",
        "outputId": "d61ab31d-62aa-472f-e4e2-f33d80ecbd08"
      },
      "execution_count": 142,
      "outputs": [
        {
          "output_type": "stream",
          "name": "stdout",
          "text": [
            "Mini batch 0:\n",
            "Data 0\n",
            "x = 0.4205533266067505\n",
            "y = 0.841106653213501\n",
            "Data 1\n",
            "x = 0.634811520576477\n",
            "y = 1.269623041152954\n",
            "\n",
            "Mini batch 1:\n",
            "Data 0\n",
            "x = 0.8396157026290894\n",
            "y = 1.6792314052581787\n",
            "Data 1\n",
            "x = 0.16296297311782837\n",
            "y = 0.32592594623565674\n",
            "\n",
            "Mini batch 2:\n",
            "Data 0\n",
            "x = 0.294700562953949\n",
            "y = 0.589401125907898\n",
            "Data 1\n",
            "x = 0.6393159627914429\n",
            "y = 1.2786319255828857\n",
            "\n",
            "Mini batch 3:\n",
            "Data 0\n",
            "x = 0.7944396734237671\n",
            "y = 1.5888793468475342\n",
            "Data 1\n",
            "x = 0.04343104362487793\n",
            "y = 0.08686208724975586\n",
            "\n",
            "Mini batch 4:\n",
            "Data 0\n",
            "x = 0.5846952199935913\n",
            "y = 1.1693904399871826\n",
            "Data 1\n",
            "x = 0.09578776359558105\n",
            "y = 0.1915755271911621\n",
            "\n"
          ]
        }
      ]
    },
    {
      "cell_type": "code",
      "source": [],
      "metadata": {
        "id": "g-mC9fdrkOaa"
      },
      "execution_count": 142,
      "outputs": []
    }
  ]
}