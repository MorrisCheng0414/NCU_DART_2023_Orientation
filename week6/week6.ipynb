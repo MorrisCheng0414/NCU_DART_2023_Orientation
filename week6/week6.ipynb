{
  "nbformat": 4,
  "nbformat_minor": 0,
  "metadata": {
    "colab": {
      "provenance": [],
      "gpuType": "T4"
    },
    "kernelspec": {
      "name": "python3",
      "display_name": "Python 3"
    },
    "language_info": {
      "name": "python"
    },
    "accelerator": "GPU"
  },
  "cells": [
    {
      "cell_type": "code",
      "source": [
        "import torch\n",
        "from torch_geometric.data import data"
      ],
      "metadata": {
        "id": "tJNnDqsI7pt2"
      },
      "execution_count": 6,
      "outputs": []
    },
    {
      "cell_type": "code",
      "source": [
        "# homework 1\n",
        "x = torch.tensor([[10, 5], [8, 6], [1, 8], [3, 5]], dtype = torch.float)\n",
        "y = torch.tensor([1, 0, 0, 1], dtype = torch.float)\n",
        "\n",
        "edge_index = torch.tensor([[0, 1, 0, 2, 1, 2, 1, 3],\n",
        "                           [1, 0, 2, 0, 2, 1, 3, 1]], dtype = torch.long)\n"
      ],
      "metadata": {
        "id": "o6f2255O82jq"
      },
      "execution_count": 7,
      "outputs": []
    },
    {
      "cell_type": "code",
      "source": [
        "# homework 2\n",
        "from torch_geometric.datasets import TUDataset\n",
        "import pandas as pd"
      ],
      "metadata": {
        "id": "UFmQ1rJ2AWkM"
      },
      "execution_count": 8,
      "outputs": []
    },
    {
      "cell_type": "code",
      "source": [
        "data = TUDataset(root = '.', name = 'PROTEINS', use_node_attr = True).shuffle()"
      ],
      "metadata": {
        "colab": {
          "base_uri": "https://localhost:8080/"
        },
        "id": "1Kpigc0mA-Lf",
        "outputId": "39f46b09-980e-449a-ab20-3a8138449462"
      },
      "execution_count": 9,
      "outputs": [
        {
          "output_type": "stream",
          "name": "stderr",
          "text": [
            "Downloading https://www.chrsmrrs.com/graphkerneldatasets/PROTEINS.zip\n",
            "Extracting ./PROTEINS/PROTEINS.zip\n",
            "Processing...\n",
            "Done!\n"
          ]
        }
      ]
    },
    {
      "cell_type": "code",
      "source": [
        "print('data length: ', len(data))\n",
        "print('data # of classes: ', data.num_classes)\n",
        "print('data # of node features: ', data.num_node_features)"
      ],
      "metadata": {
        "colab": {
          "base_uri": "https://localhost:8080/"
        },
        "id": "TzzQsV2GBYJA",
        "outputId": "23075703-a03f-473c-8db4-b7eb80e7d880"
      },
      "execution_count": 10,
      "outputs": [
        {
          "output_type": "stream",
          "name": "stdout",
          "text": [
            "data length:  1113\n",
            "data # of classes:  2\n",
            "data # of node features:  4\n"
          ]
        }
      ]
    },
    {
      "cell_type": "code",
      "source": [
        "train_idx, val_idx = int(len(data) * 0.8), int(len(data) * 0.9)\n",
        "train_graph = data[ : train_idx]\n",
        "val_graph = data[train_idx : val_idx]\n",
        "test_graph = data[val_idx : ]\n",
        "print(train_graph, val_graph, test_graph)"
      ],
      "metadata": {
        "colab": {
          "base_uri": "https://localhost:8080/"
        },
        "id": "qNMMo5zKByqS",
        "outputId": "23b02ea0-e221-46ea-92b4-97fd91231b5d"
      },
      "execution_count": 11,
      "outputs": [
        {
          "output_type": "stream",
          "name": "stdout",
          "text": [
            "PROTEINS(890) PROTEINS(111) PROTEINS(112)\n"
          ]
        }
      ]
    },
    {
      "cell_type": "code",
      "source": [
        "# homework 3\n",
        "from torch_geometric.datasets import Planetoid"
      ],
      "metadata": {
        "id": "sH1ytWrKF7AN"
      },
      "execution_count": 12,
      "outputs": []
    },
    {
      "cell_type": "code",
      "source": [
        "dataset = Planetoid(root = '/tmp/Cora', name = 'Cora')\n",
        "dataset"
      ],
      "metadata": {
        "colab": {
          "base_uri": "https://localhost:8080/"
        },
        "id": "I1198qKiF-nx",
        "outputId": "adf051db-054b-46b0-8ccb-3620aecd2cf8"
      },
      "execution_count": 13,
      "outputs": [
        {
          "output_type": "stream",
          "name": "stderr",
          "text": [
            "Downloading https://github.com/kimiyoung/planetoid/raw/master/data/ind.cora.x\n",
            "Downloading https://github.com/kimiyoung/planetoid/raw/master/data/ind.cora.tx\n",
            "Downloading https://github.com/kimiyoung/planetoid/raw/master/data/ind.cora.allx\n",
            "Downloading https://github.com/kimiyoung/planetoid/raw/master/data/ind.cora.y\n",
            "Downloading https://github.com/kimiyoung/planetoid/raw/master/data/ind.cora.ty\n",
            "Downloading https://github.com/kimiyoung/planetoid/raw/master/data/ind.cora.ally\n",
            "Downloading https://github.com/kimiyoung/planetoid/raw/master/data/ind.cora.graph\n",
            "Downloading https://github.com/kimiyoung/planetoid/raw/master/data/ind.cora.test.index\n",
            "Processing...\n",
            "Done!\n"
          ]
        },
        {
          "output_type": "execute_result",
          "data": {
            "text/plain": [
              "Cora()"
            ]
          },
          "metadata": {},
          "execution_count": 13
        }
      ]
    },
    {
      "cell_type": "code",
      "source": [
        "print('data length: ', len(dataset))\n",
        "print('data # of classes: ', dataset.num_classes)\n",
        "print('data # of node features: ', dataset.num_node_features)"
      ],
      "metadata": {
        "colab": {
          "base_uri": "https://localhost:8080/"
        },
        "id": "xi6Jt9OGHfua",
        "outputId": "2740fdec-fa20-4377-819c-8d9e7e443f99"
      },
      "execution_count": 14,
      "outputs": [
        {
          "output_type": "stream",
          "name": "stdout",
          "text": [
            "data length:  1\n",
            "data # of classes:  7\n",
            "data # of node features:  1433\n"
          ]
        }
      ]
    },
    {
      "cell_type": "code",
      "source": [
        "import torch.nn.functional as F\n",
        "from torch_geometric.nn import GCNConv\n",
        "\n",
        "class GCN(torch.nn.Module):\n",
        "  def __init__(self):\n",
        "    super().__init__()\n",
        "    self.conv1 = GCNConv(dataset.num_node_features, 256)\n",
        "    self.conv2 = GCNConv(256, 16)\n",
        "    self.conv3 = GCNConv(16, dataset.num_classes)\n",
        "    self.dropout = 0.5\n",
        "\n",
        "  def forward(self, data):\n",
        "    x, edge_index = data.x, data.edge_index\n",
        "\n",
        "    x = self.conv1(x, edge_index)\n",
        "    x = F.relu(x)\n",
        "    # x = F.dropout(x, p = self.dropout, training = self.training)\n",
        "\n",
        "    x = self.conv2(x, edge_index)\n",
        "    x = F.relu(x)\n",
        "    x = F.dropout(x, p = self.dropout, training = self.training)\n",
        "\n",
        "    x = self.conv3(x, edge_index)\n",
        "\n",
        "    return F.log_softmax(x, dim = 1)"
      ],
      "metadata": {
        "id": "a8GaKxkAGt2J"
      },
      "execution_count": 261,
      "outputs": []
    },
    {
      "cell_type": "code",
      "source": [
        "device = torch.device('cuda' if torch.cuda.is_available() else 'cpu')\n",
        "model = GCN().to(device)\n",
        "data = dataset[0].to(device)\n",
        "optimizer = torch.optim.Adam(model.parameters(), lr = 0.01, weight_decay = 5e-4)\n",
        "\n",
        "model.train()\n",
        "\n",
        "for epoch in range(200):\n",
        "  optimizer.zero_grad()\n",
        "  out = model(data)\n",
        "  loss = F.nll_loss(out[data.train_mask], data.y[data.train_mask])\n",
        "  loss.backward()\n",
        "  optimizer.step()\n",
        "\n",
        "\n",
        "model.eval()\n",
        "pred = model(data).argmax(dim = 1)\n",
        "correct = (pred[data.test_mask] == data.y[data.test_mask]).sum()\n",
        "acc = int(correct) / int(data.test_mask.sum())\n",
        "print(f'Accuracy: {acc:.4f}')"
      ],
      "metadata": {
        "colab": {
          "base_uri": "https://localhost:8080/"
        },
        "id": "Dv3tPXewKFl2",
        "outputId": "d77a6519-54fb-43c1-e954-d20a8e744ed0"
      },
      "execution_count": 266,
      "outputs": [
        {
          "output_type": "stream",
          "name": "stdout",
          "text": [
            "Accuracy: 0.7950\n"
          ]
        }
      ]
    },
    {
      "cell_type": "code",
      "source": [],
      "metadata": {
        "id": "nWxZqx7OKZbF"
      },
      "execution_count": 198,
      "outputs": []
    },
    {
      "cell_type": "code",
      "source": [],
      "metadata": {
        "id": "qfUE3pD2LbJe"
      },
      "execution_count": 18,
      "outputs": []
    }
  ]
}